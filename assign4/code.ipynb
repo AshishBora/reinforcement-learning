{
 "cells": [
  {
   "cell_type": "code",
   "execution_count": null,
   "metadata": {
    "collapsed": true
   },
   "outputs": [],
   "source": [
    "import random\n",
    "from __future__ import division\n",
    "import math\n",
    "import numpy as np\n",
    "import copy\n",
    "from ipywidgets import interact, interactive, fixed\n",
    "import ipywidgets as widgets\n",
    "import seaborn as sns\n",
    "import matplotlib.pyplot as plt\n",
    "%matplotlib inline"
   ]
  },
  {
   "cell_type": "code",
   "execution_count": null,
   "metadata": {
    "collapsed": true
   },
   "outputs": [],
   "source": [
    "class RandomWalkEnv(object):\n",
    "    def __init__(self, num_states, hop, start_state=500):\n",
    "        self.num_states = num_states\n",
    "        self.hop = hop\n",
    "        self.state = None\n",
    "        self.reset(start_state)\n",
    "        \n",
    "    def reset(self, start_state):\n",
    "        self.state = start_state\n",
    "        \n",
    "    def get_reward(self):\n",
    "        reward = 0\n",
    "        done = False\n",
    "        if self.state == 0:\n",
    "            reward = -1\n",
    "            done = True\n",
    "        elif self.state == self.num_states-1:\n",
    "            reward = 1\n",
    "            done = True\n",
    "        return reward, done\n",
    "        \n",
    "    def step(self):\n",
    "        displacement = random.randint(1, self.hop)\n",
    "        if (random.random() > 0.5):\n",
    "            displacement *= -1\n",
    "        self.state += displacement \n",
    "        self.state = min(self.num_states-1, max(0, self.state))        \n",
    "        reward, done = self.get_reward()\n",
    "        return reward, self.state, done\n",
    "    \n",
    "    def get_episode(self, start_state):\n",
    "        self.reset(start_state)\n",
    "        done = False\n",
    "        episode = [(None, start_state)]\n",
    "        while not done:\n",
    "            reward, state, done = self.step()\n",
    "            episode.append((reward, state))\n",
    "        return episode"
   ]
  },
  {
   "cell_type": "code",
   "execution_count": null,
   "metadata": {
    "collapsed": false,
    "scrolled": false
   },
   "outputs": [],
   "source": [
    "def get_returns(episode, gamma):\n",
    "    Gt = 0\n",
    "    returns = []\n",
    "    for t in reversed(range(len(episode)-1)):\n",
    "        state = episode[t][1]\n",
    "        reward = episode[t+1][0]\n",
    "        Gt = gamma*Gt + reward\n",
    "        returns.append((state, Gt))\n",
    "    returns.reverse()\n",
    "    return returns"
   ]
  },
  {
   "cell_type": "code",
   "execution_count": null,
   "metadata": {
    "collapsed": true
   },
   "outputs": [],
   "source": [
    "def update_state_distribution(distribution, episode):\n",
    "    states = zip(*episode)[1]\n",
    "    for state in states:\n",
    "        distribution[state] += 1\n",
    "    return distribution"
   ]
  },
  {
   "cell_type": "code",
   "execution_count": null,
   "metadata": {
    "collapsed": true
   },
   "outputs": [],
   "source": [
    "def get_distribution(episodes, num_states):\n",
    "    distribution = np.zeros(num_states)\n",
    "    for episode in episodes:\n",
    "        distribution = update_state_distribution(distribution, episode)\n",
    "    total = sum([len(episode) - 1 for episode in episodes])\n",
    "    return distribution[1:-1] / total"
   ]
  },
  {
   "cell_type": "code",
   "execution_count": null,
   "metadata": {
    "collapsed": true
   },
   "outputs": [],
   "source": [
    "def get_stopping_times(episodes):\n",
    "    stopping_times = []\n",
    "    for episode in episodes:\n",
    "        stopping_times.append(len(episode) - 1)\n",
    "    return stopping_times"
   ]
  },
  {
   "cell_type": "code",
   "execution_count": null,
   "metadata": {
    "collapsed": true
   },
   "outputs": [],
   "source": [
    "def v_agg(state, theta, agg_stride, absorbing_states):\n",
    "    v = 0\n",
    "    if state not in absorbing_states:\n",
    "        bin_num = math.floor((state - 1) / agg_stride)    \n",
    "        v = theta[bin_num]\n",
    "    return v\n",
    "\n",
    "def grad_v_agg(state, theta, agg_stride, absorbing_states):\n",
    "    grad = np.zeros_like(theta)\n",
    "    if state not in absorbing_states:\n",
    "        bin_num = math.floor((state - 1) / agg_stride)        \n",
    "        grad[bin_num] = 1\n",
    "    return grad"
   ]
  },
  {
   "cell_type": "code",
   "execution_count": null,
   "metadata": {
    "collapsed": true
   },
   "outputs": [],
   "source": [
    "def init_theta(num_states, expts):\n",
    "    theta, theta_hist = {}, {}\n",
    "    for expt in expts:\n",
    "        expt_id, agg_stride, _, _, _ = expt\n",
    "        num_bins = int(math.ceil((num_states - 2) / agg_stride))\n",
    "        theta[expt_id] = np.zeros(num_bins)\n",
    "        theta_hist[expt_id] = [copy.deepcopy(theta[expt_id])]\n",
    "    return theta, theta_hist"
   ]
  },
  {
   "cell_type": "code",
   "execution_count": null,
   "metadata": {
    "collapsed": true
   },
   "outputs": [],
   "source": [
    "def mc_approx(num_states, episodes, expts, gamma):\n",
    "    theta, theta_hist = init_theta(num_states, expts)\n",
    "    for episode_num, episode in enumerate(episodes):\n",
    "        if episode_num % 1000 == 0:\n",
    "            print 'Episode number {0}'.format(episode_num)\n",
    "        returns = get_returns(episode, gamma)\n",
    "        for state, Gt in returns:\n",
    "            for expt in expts:\n",
    "                expt_id, _, alpha, v_agg_expt, grad_v_agg_expt = expt\n",
    "                v_estimate = v_agg_expt(state, theta[expt_id])\n",
    "                grad_v = grad_v_agg_expt(state, theta[expt_id])\n",
    "                theta[expt_id] += alpha*(Gt - v_estimate)*grad_v\n",
    "        for expt in expts:\n",
    "            expt_id, _, _, _, _ = expt\n",
    "            theta_hist[expt_id].append(copy.deepcopy(theta[expt_id]))\n",
    "    return theta_hist"
   ]
  },
  {
   "cell_type": "code",
   "execution_count": null,
   "metadata": {
    "collapsed": true
   },
   "outputs": [],
   "source": [
    "def semi_gradient_td0(num_states, episodes, expts, gamma):\n",
    "    theta, theta_hist = init_theta(num_states, expts)\n",
    "    for episode_num, episode in enumerate(episodes):\n",
    "        if episode_num % 1000 == 0:\n",
    "            print 'Episode number {0}'.format(episode_num)\n",
    "        for t in range(len(episode)-1):\n",
    "            s = episode[t][1]\n",
    "            r, s_prime = episode[t+1]\n",
    "            for expt in expts:\n",
    "                expt_id, _, alpha, v_agg_expt, grad_v_agg_expt = expt\n",
    "                v_s = v_agg_expt(s, theta[expt_id])\n",
    "                v_s_prime = v_agg_expt(s_prime, theta[expt_id])\n",
    "                grad_v_s = grad_v_agg_expt(s, theta[expt_id])\n",
    "                theta[expt_id] += alpha*(r + gamma*v_s_prime - v_s)*grad_v_s\n",
    "        for expt in expts:\n",
    "            expt_id, _, _, _, _ = expt\n",
    "            theta_hist[expt_id].append(copy.deepcopy(theta[expt_id]))\n",
    "    return theta_hist"
   ]
  },
  {
   "cell_type": "code",
   "execution_count": null,
   "metadata": {
    "collapsed": true
   },
   "outputs": [],
   "source": [
    "def demi_gradient_td0(num_states, episodes, expts, gamma, delta):\n",
    "    theta, theta_hist = init_theta(num_states, expts)\n",
    "    for episode_num, episode in enumerate(episodes):\n",
    "        if episode_num % 1000 == 0:\n",
    "            print 'Episode number {0}'.format(episode_num)\n",
    "        for t in range(len(episode)-1):\n",
    "            s = episode[t][1]\n",
    "            r, s_prime = episode[t+1]\n",
    "            for expt in expts:\n",
    "                expt_id, _, alpha, v_agg_expt, grad_v_agg_expt = expt\n",
    "                v_s = v_agg_expt(s, theta[expt_id])\n",
    "                v_s_prime = v_agg_expt(s_prime, theta[expt_id])\n",
    "                grad_v_s = grad_v_agg_expt(s, theta[expt_id])\n",
    "                grad_v_s_prime = grad_v_agg_expt(s_prime, theta[expt_id])\n",
    "                theta[expt_id] += alpha*(r + gamma*v_s_prime - v_s)*(grad_v_s - delta*gamma*grad_v_s_prime)\n",
    "        for expt in expts:\n",
    "            expt_id, _, _, _, _ = expt\n",
    "            theta_hist[expt_id].append(copy.deepcopy(theta[expt_id]))\n",
    "    return theta_hist"
   ]
  },
  {
   "cell_type": "code",
   "execution_count": null,
   "metadata": {
    "collapsed": true
   },
   "outputs": [],
   "source": [
    "def viz_theta(expts, theta_hist, i):\n",
    "    plt.figure(figsize=[10, 5])\n",
    "    for expt in expts:\n",
    "        (expt_id, agg_stride, alpha, v_agg_expt, grad_v_agg_expt) = expt\n",
    "        temp = np.tile(theta_hist[expt_id][i], [agg_stride, 1])\n",
    "        temp = np.reshape(temp.T, -1)\n",
    "        plt.plot(temp, alpha=0.7)\n",
    "    plt.ylim([-1, 1])\n",
    "    plt.xlabel('state')\n",
    "    plt.ylabel('value')"
   ]
  },
  {
   "cell_type": "code",
   "execution_count": null,
   "metadata": {
    "collapsed": false
   },
   "outputs": [],
   "source": [
    "def spec2expt(spec, num_states):\n",
    "    absorbing_states = [0, num_states-1]\n",
    "    expt_id, agg_stride, alpha = spec\n",
    "    v_agg_expt = lambda state, theta : v_agg(state, theta, agg_stride, absorbing_states)\n",
    "    grad_v_agg_expt = lambda state, theta : grad_v_agg(state, theta, agg_stride, absorbing_states)    \n",
    "    expt = (expt_id, agg_stride, alpha, v_agg_expt, grad_v_agg_expt)\n",
    "    return expt"
   ]
  },
  {
   "cell_type": "code",
   "execution_count": null,
   "metadata": {
    "collapsed": false,
    "scrolled": false
   },
   "outputs": [],
   "source": [
    "def gen_episodes(num_states, hop, start_state, num_iter):\n",
    "    random_walk_env = RandomWalkEnv(num_states, hop, start_state=start_state)\n",
    "    episodes = [random_walk_env.get_episode(start_state) for _ in range(num_iter)]\n",
    "    return episodes"
   ]
  },
  {
   "cell_type": "code",
   "execution_count": null,
   "metadata": {
    "collapsed": true
   },
   "outputs": [],
   "source": [
    "# Generate some data\n",
    "num_states = 1002\n",
    "hop = 100\n",
    "start_state = 500\n",
    "num_iter = 1000\n",
    "episodes = gen_episodes(num_states, hop, start_state, num_iter)"
   ]
  },
  {
   "cell_type": "code",
   "execution_count": null,
   "metadata": {
    "collapsed": false
   },
   "outputs": [],
   "source": [
    "# Plot 1\n",
    "stopping_times = get_stopping_times(episodes)\n",
    "plt.figure(figsize=[10, 5])\n",
    "plt.hist(stopping_times, 100)\n",
    "plt.xlabel('number of steps')\n",
    "plt.ylabel('frequency')\n",
    "plt.show()"
   ]
  },
  {
   "cell_type": "code",
   "execution_count": null,
   "metadata": {
    "collapsed": false
   },
   "outputs": [],
   "source": [
    "# Plot 2\n",
    "distribution = get_distribution(episodes, num_states)\n",
    "plt.figure(figsize=[10, 5])\n",
    "plt.plot(distribution)\n",
    "plt.xlabel('state')\n",
    "plt.ylabel('frequency')\n",
    "plt.show()"
   ]
  },
  {
   "cell_type": "code",
   "execution_count": null,
   "metadata": {
    "collapsed": false,
    "scrolled": false
   },
   "outputs": [],
   "source": [
    "# Plot 3\n",
    "spec1 = ('agg100', 100, 2e-5)\n",
    "spec2 = ('full', 1, 1e-3)\n",
    "specs = [spec1, spec2]\n",
    "expts = [spec2expt(spec, num_states) for spec in specs]\n",
    "theta_hist_mc = mc_approx(num_states, episodes, expts, gamma=1)\n",
    "i_slider = widgets.IntSlider(min=0, max=num_iter, step=1, value=num_iter)\n",
    "f1 = lambda i: viz_theta(expts, theta_hist_mc, i)\n",
    "interact(f1, i=i_slider)"
   ]
  },
  {
   "cell_type": "code",
   "execution_count": null,
   "metadata": {
    "collapsed": false
   },
   "outputs": [],
   "source": [
    "# Plot 4\n",
    "spec1 = ('agg10', 100, 2e-5*100)\n",
    "spec2 = ('full', 1, 1e-3*100)\n",
    "specs = [spec1, spec2]\n",
    "expts = [spec2expt(spec, num_states) for spec in specs]\n",
    "theta_hist_semi = semi_gradient_td0(num_states, episodes, expts, gamma=1)\n",
    "i_slider = widgets.IntSlider(min=0, max=num_iter, step=1, value=num_iter)\n",
    "f1 = lambda i: viz_theta(expts, theta_hist_semi, i)\n",
    "interact(f1, i=i_slider)"
   ]
  },
  {
   "cell_type": "code",
   "execution_count": null,
   "metadata": {
    "collapsed": false
   },
   "outputs": [],
   "source": [
    "# Plot 5\n",
    "spec1 = ('agg100', 100, 2e-5*200)\n",
    "spec2 = ('full', 1, 1e-3*200)\n",
    "specs = [spec1, spec2]\n",
    "expts = [spec2expt(spec, num_states) for spec in specs]\n",
    "theta_hist_demi = demi_gradient_td0(num_states, episodes, expts, gamma=1, delta=1.0)\n",
    "i_slider = widgets.IntSlider(min=0, max=num_iter, step=1, value=num_iter)\n",
    "f1 = lambda i: viz_theta(expts, theta_hist_demi, i)\n",
    "interact(f1, i=i_slider)"
   ]
  },
  {
   "cell_type": "code",
   "execution_count": null,
   "metadata": {
    "collapsed": true
   },
   "outputs": [],
   "source": [
    "# Generate smaller version of data\n",
    "num_states = 12\n",
    "hop = 1\n",
    "start_state = 5\n",
    "num_iter = 1000\n",
    "episodes = gen_episodes(num_states, hop, start_state, num_iter)"
   ]
  },
  {
   "cell_type": "code",
   "execution_count": null,
   "metadata": {
    "collapsed": false
   },
   "outputs": [],
   "source": [
    "theta_star = (2*(np.arange(num_states) / (num_states - 1)) - 1)[1:-1]\n",
    "# print theta_star\n",
    "# plt.plot(theta_star)"
   ]
  },
  {
   "cell_type": "code",
   "execution_count": null,
   "metadata": {
    "collapsed": false
   },
   "outputs": [],
   "source": [
    "# spec1 = ('agg2', 2, 2e-5)\n",
    "spec2 = ('full', 1, 1e-3)\n",
    "specs = [spec2]\n",
    "expts = [spec2expt(spec, num_states) for spec in specs]\n",
    "theta_hist_mc = mc_approx(num_states, episodes, expts, gamma=1)\n",
    "error_mc = [np.linalg.norm(theta - theta_star) for theta in theta_hist_mc['full']]\n",
    "\n",
    "spec2 = ('full', 1, 1e-3*10)\n",
    "specs = [spec2]\n",
    "expts = [spec2expt(spec, num_states) for spec in specs]\n",
    "theta_hist_semi = semi_gradient_td0(num_states, episodes, expts, gamma=1)\n",
    "error_semi = [np.linalg.norm(theta - theta_star) for theta in theta_hist_semi['full']]\n",
    "\n",
    "spec2 = ('full', 1, 1e-3*10)\n",
    "specs = [spec2]\n",
    "expts = [spec2expt(spec, num_states) for spec in specs]\n",
    "deltas = [-0.4, -0.1, 0.3, 0.7, 1]\n",
    "error_demis = []\n",
    "for delta in deltas:\n",
    "    theta_hist_demi = demi_gradient_td0(num_states, episodes, expts, gamma=1, delta=delta)\n",
    "    error_demi = [np.linalg.norm(theta - theta_star) for theta in theta_hist_demi['full']]\n",
    "    error_demis.append(error_demi)"
   ]
  },
  {
   "cell_type": "code",
   "execution_count": null,
   "metadata": {
    "collapsed": false
   },
   "outputs": [],
   "source": [
    "plt.figure(figsize=[10, 5])\n",
    "plt.plot(error_mc)\n",
    "plt.plot(error_semi)\n",
    "for error_demi in error_demis:\n",
    "    plt.plot(error_demi)\n",
    "legends = ['monte carlo', 'semi gradient']\n",
    "for delta in deltas:\n",
    "    legends.append('delta = {0}'.format(delta))\n",
    "plt.legend(legends)\n",
    "plt.xlabel('episodes')\n",
    "plt.ylabel('RMS error')"
   ]
  }
 ],
 "metadata": {
  "kernelspec": {
   "display_name": "Python 2",
   "language": "python",
   "name": "python2"
  },
  "language_info": {
   "codemirror_mode": {
    "name": "ipython",
    "version": 2
   },
   "file_extension": ".py",
   "mimetype": "text/x-python",
   "name": "python",
   "nbconvert_exporter": "python",
   "pygments_lexer": "ipython2",
   "version": "2.7.11"
  }
 },
 "nbformat": 4,
 "nbformat_minor": 0
}
